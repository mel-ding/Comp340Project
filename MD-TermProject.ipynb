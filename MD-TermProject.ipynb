{
 "cells": [
  {
   "cell_type": "markdown",
   "metadata": {},
   "source": [
    "# Term Project - M&M Movie Reviews"
   ]
  },
  {
   "cell_type": "code",
   "execution_count": 1,
   "metadata": {},
   "outputs": [],
   "source": [
    "import pandas as pd \n",
    "import numpy as np"
   ]
  },
  {
   "cell_type": "code",
   "execution_count": 2,
   "metadata": {},
   "outputs": [],
   "source": [
    "def read_api_key(file):\n",
    "    f = open(file,'r')\n",
    "    api_key = f.read().replace('\\n','')\n",
    "    f.close()\n",
    "    return api_key\n",
    "\n",
    "api_key = read_api_key('api_key.txt')"
   ]
  },
  {
   "cell_type": "code",
   "execution_count": 3,
   "metadata": {},
   "outputs": [],
   "source": [
    "movies = pd.read_csv('ml-latest-small/movies.csv')\n",
    "links = pd.read_csv('ml-latest-small/links.csv')\n",
    "ratings = pd.read_csv('ml-latest-small/ratings.csv')\n",
    "tags = pd.read_csv('ml-latest-small/tags.csv')"
   ]
  },
  {
   "cell_type": "code",
   "execution_count": 22,
   "metadata": {},
   "outputs": [
    {
     "name": "stdout",
     "output_type": "stream",
     "text": [
      "(9742, 3)\n",
      "Index(['movieId', 'title', 'genres'], dtype='object')\n",
      "----------\n",
      "(9742, 3)\n",
      "Index(['movieId', 'imdbId', 'tmdbId'], dtype='object')\n",
      "----------\n",
      "(100836, 4)\n",
      "Index(['userId', 'movieId', 'rating', 'rating_timestamp'], dtype='object')\n",
      "----------\n",
      "(3683, 4)\n",
      "Index(['userId', 'movieId', 'tag', 'tags_timestamp'], dtype='object')\n"
     ]
    }
   ],
   "source": [
    "print(movies.shape)\n",
    "print(movies.columns)\n",
    "print(\"----------\")\n",
    "print(links.shape)\n",
    "print(links.columns)\n",
    "print(\"----------\")\n",
    "print(ratings.shape)\n",
    "ratings.rename(columns={'timestamp':'rating_timestamp'}, inplace=True)\n",
    "print(ratings.columns)\n",
    "print(\"----------\")\n",
    "print(tags.shape)\n",
    "tags.rename(columns={'timestamp':'tags_timestamp'}, inplace=True)\n",
    "print(tags.columns)"
   ]
  },
  {
   "cell_type": "markdown",
   "metadata": {},
   "source": [
    "The attributes in this dataset are: \n",
    "- Movie IDs: corresponds with ID used on MovieLens website (ex: id1 corresponds with https://movielens.org/movies/1) \n",
    "- Title: entered manually or imported \n",
    "- Genre: pipe separated list \n",
    "- imdbID: identifier for movie used by imdb (http://www.imdb.com)\n",
    "- tmdbID: identifier for tmdbId (https://www.themoviedb.org) \n",
    "- userID: the id of the user \n",
    "- rating: on 5 star scale with half-star increments \n",
    "- timestamp: seconds since midnight Coordinated Universal Time of January 1, 1970 \n",
    "- tag: user-generated metadata about movies "
   ]
  },
  {
   "cell_type": "code",
   "execution_count": 25,
   "metadata": {},
   "outputs": [
    {
     "name": "stdout",
     "output_type": "stream",
     "text": [
      "(3476, 10)\n",
      "Index(['movieId', 'title', 'genres', 'imdbId', 'tmdbId', 'userId', 'rating',\n",
      "       'rating_timestamp', 'tag', 'tags_timestamp'],\n",
      "      dtype='object')\n"
     ]
    }
   ],
   "source": [
    "movie_links = pd.merge(movies, links, on=['movieId'], how=\"inner\")\n",
    "ratings_tags = pd.merge(ratings, tags, on=['userId', 'movieId'], how=\"inner\")\n",
    "data = pd.merge(movie_links, ratings_tags, on=['movieId'], how=\"inner\")\n",
    "print(data.shape)\n",
    "print(data.columns)\n",
    "data.head()\n",
    "data.to_csv( \"./GroupLens.csv\", index=False)"
   ]
  },
  {
   "cell_type": "code",
   "execution_count": null,
   "metadata": {},
   "outputs": [],
   "source": []
  }
 ],
 "metadata": {
  "kernelspec": {
   "display_name": "Python 3",
   "language": "python",
   "name": "python3"
  },
  "language_info": {
   "codemirror_mode": {
    "name": "ipython",
    "version": 3
   },
   "file_extension": ".py",
   "mimetype": "text/x-python",
   "name": "python",
   "nbconvert_exporter": "python",
   "pygments_lexer": "ipython3",
   "version": "3.7.1"
  }
 },
 "nbformat": 4,
 "nbformat_minor": 2
}
