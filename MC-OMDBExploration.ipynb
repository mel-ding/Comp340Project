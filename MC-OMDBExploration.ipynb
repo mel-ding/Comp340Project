{
 "cells": [
  {
   "cell_type": "code",
   "execution_count": 11,
   "metadata": {},
   "outputs": [],
   "source": [
    "import requests\n",
    "import pandas as pd"
   ]
  },
  {
   "cell_type": "code",
   "execution_count": 36,
   "metadata": {},
   "outputs": [],
   "source": [
    "response = requests.get(\"http://www.omdbapi.com/?i=tt3896198&apikey=9670abc1\")"
   ]
  },
  {
   "cell_type": "code",
   "execution_count": 37,
   "metadata": {},
   "outputs": [
    {
     "name": "stdout",
     "output_type": "stream",
     "text": [
      "{'Title': 'Guardians of the Galaxy Vol. 2', 'Year': '2017', 'Rated': 'PG-13', 'Released': '05 May 2017', 'Runtime': '136 min', 'Genre': 'Action, Adventure, Comedy, Sci-Fi', 'Director': 'James Gunn', 'Writer': 'James Gunn, Dan Abnett (based on the Marvel comics by), Andy Lanning (based on the Marvel comics by), Steve Englehart (Star-Lord created by), Steve Gan (Star-Lord created by), Jim Starlin (Gamora and Drax created by), Stan Lee (Groot created by), Larry Lieber (Groot created by), Jack Kirby (Groot created by), Bill Mantlo (Rocket Raccoon created by), Keith Giffen (Rocket Raccoon created by), Steve Gerber (Howard the Duck created by), Val Mayerik (Howard the Duck created by)', 'Actors': 'Chris Pratt, Zoe Saldana, Dave Bautista, Vin Diesel', 'Plot': \"The Guardians struggle to keep together as a team while dealing with their personal family issues, notably Star-Lord's encounter with his father the ambitious celestial being Ego.\", 'Language': 'English', 'Country': 'USA', 'Awards': 'Nominated for 1 Oscar. Another 12 wins & 42 nominations.', 'Poster': 'https://m.media-amazon.com/images/M/MV5BNjM0NTc0NzItM2FlYS00YzEwLWE0YmUtNTA2ZWIzODc2OTgxXkEyXkFqcGdeQXVyNTgwNzIyNzg@._V1_SX300.jpg', 'Ratings': [{'Source': 'Internet Movie Database', 'Value': '7.6/10'}, {'Source': 'Rotten Tomatoes', 'Value': '84%'}, {'Source': 'Metacritic', 'Value': '67/100'}], 'Metascore': '67', 'imdbRating': '7.6', 'imdbVotes': '507,090', 'imdbID': 'tt3896198', 'Type': 'movie', 'DVD': '22 Aug 2017', 'BoxOffice': '$389,804,217', 'Production': 'Walt Disney Pictures', 'Website': 'N/A', 'Response': 'True'}\n"
     ]
    }
   ],
   "source": [
    "print (response.json())"
   ]
  },
  {
   "cell_type": "code",
   "execution_count": 58,
   "metadata": {},
   "outputs": [],
   "source": [
    "def requestIDMuthu(ids):\n",
    "    dataframe = []\n",
    "    for id in ids:\n",
    "        requestURL = \"http://www.omdbapi.com/?i=tt\" + str(id) + \"&apikey=4450238f\"\n",
    "        response = requests.get(requestURL).json()\n",
    "        if (response['Response'] == 'False'):\n",
    "            continue\n",
    "        response['Tomatoscore'] = response['Ratings'][1]['Value']\n",
    "        response.pop('Year', None)\n",
    "        response.pop('Plot', None)\n",
    "        response.pop('Language', None)\n",
    "        response.pop('Country', None)\n",
    "        response.pop('Poster', None)\n",
    "        response.pop('Ratings', None)\n",
    "        response.pop('Type', None)\n",
    "        response.pop('DVD', None)\n",
    "        response.pop('Response', None)\n",
    "        response.pop('Website', None)\n",
    "        dataframe.append(response)\n",
    "    return pd.DataFrame(dataframe)\n",
    "        \n",
    "        "
   ]
  },
  {
   "cell_type": "code",
   "execution_count": 56,
   "metadata": {},
   "outputs": [],
   "source": [
    "def requestIDMelinda(ids):\n",
    "    dataframe = []\n",
    "    for id in ids:\n",
    "        requestURL = \"http://www.omdbapi.com/?i=tt\" + str(id) + \"&apikey=9670abc1\"\n",
    "        response = requests.get(requestURL).json()\n",
    "        print(response)\n",
    "        if (response['Response'] == 'False'):\n",
    "            continue\n",
    "        response['Tomatoscore'] = response['Ratings'][1]['Value']\n",
    "        response.pop('Year', None)\n",
    "        response.pop('Plot', None)\n",
    "        response.pop('Language', None)\n",
    "        response.pop('Country', None)\n",
    "        response.pop('Poster', None)\n",
    "        response.pop('Ratings', None)\n",
    "        response.pop('Type', None)\n",
    "        response.pop('DVD', None)\n",
    "        response.pop('Response', None)\n",
    "        response.pop('Website', None)\n",
    "        dataframe.append(response)\n",
    "    return pd.DataFrame(dataframe)"
   ]
  },
  {
   "cell_type": "code",
   "execution_count": 57,
   "metadata": {},
   "outputs": [
    {
     "name": "stdout",
     "output_type": "stream",
     "text": [
      "{'Response': 'False', 'Error': 'Invalid API key!'}\n",
      "REACH HERE\n"
     ]
    },
    {
     "data": {
      "text/html": [
       "<div>\n",
       "<style scoped>\n",
       "    .dataframe tbody tr th:only-of-type {\n",
       "        vertical-align: middle;\n",
       "    }\n",
       "\n",
       "    .dataframe tbody tr th {\n",
       "        vertical-align: top;\n",
       "    }\n",
       "\n",
       "    .dataframe thead th {\n",
       "        text-align: right;\n",
       "    }\n",
       "</style>\n",
       "<table border=\"1\" class=\"dataframe\">\n",
       "  <thead>\n",
       "    <tr style=\"text-align: right;\">\n",
       "      <th></th>\n",
       "    </tr>\n",
       "  </thead>\n",
       "  <tbody>\n",
       "  </tbody>\n",
       "</table>\n",
       "</div>"
      ],
      "text/plain": [
       "Empty DataFrame\n",
       "Columns: []\n",
       "Index: []"
      ]
     },
     "execution_count": 57,
     "metadata": {},
     "output_type": "execute_result"
    }
   ],
   "source": [
    "requestIDMelinda([4154796])"
   ]
  },
  {
   "cell_type": "code",
   "execution_count": 59,
   "metadata": {},
   "outputs": [
    {
     "data": {
      "text/html": [
       "<div>\n",
       "<style scoped>\n",
       "    .dataframe tbody tr th:only-of-type {\n",
       "        vertical-align: middle;\n",
       "    }\n",
       "\n",
       "    .dataframe tbody tr th {\n",
       "        vertical-align: top;\n",
       "    }\n",
       "\n",
       "    .dataframe thead th {\n",
       "        text-align: right;\n",
       "    }\n",
       "</style>\n",
       "<table border=\"1\" class=\"dataframe\">\n",
       "  <thead>\n",
       "    <tr style=\"text-align: right;\">\n",
       "      <th></th>\n",
       "      <th>Title</th>\n",
       "      <th>Rated</th>\n",
       "      <th>Released</th>\n",
       "      <th>Runtime</th>\n",
       "      <th>Genre</th>\n",
       "      <th>Director</th>\n",
       "      <th>Writer</th>\n",
       "      <th>Actors</th>\n",
       "      <th>Awards</th>\n",
       "      <th>Metascore</th>\n",
       "      <th>imdbRating</th>\n",
       "      <th>imdbVotes</th>\n",
       "      <th>imdbID</th>\n",
       "      <th>BoxOffice</th>\n",
       "      <th>Production</th>\n",
       "      <th>Tomatoscore</th>\n",
       "    </tr>\n",
       "  </thead>\n",
       "  <tbody>\n",
       "    <tr>\n",
       "      <td>0</td>\n",
       "      <td>Avengers: Endgame</td>\n",
       "      <td>PG-13</td>\n",
       "      <td>26 Apr 2019</td>\n",
       "      <td>181 min</td>\n",
       "      <td>Action, Adventure, Drama, Sci-Fi</td>\n",
       "      <td>Anthony Russo, Joe Russo</td>\n",
       "      <td>Christopher Markus (screenplay by), Stephen Mc...</td>\n",
       "      <td>Robert Downey Jr., Chris Evans, Mark Ruffalo, ...</td>\n",
       "      <td>N/A</td>\n",
       "      <td>78</td>\n",
       "      <td>8.5</td>\n",
       "      <td>589,503</td>\n",
       "      <td>tt4154796</td>\n",
       "      <td>N/A</td>\n",
       "      <td>Marvel Studios</td>\n",
       "      <td>94%</td>\n",
       "    </tr>\n",
       "  </tbody>\n",
       "</table>\n",
       "</div>"
      ],
      "text/plain": [
       "               Title  Rated     Released  Runtime  \\\n",
       "0  Avengers: Endgame  PG-13  26 Apr 2019  181 min   \n",
       "\n",
       "                              Genre                  Director  \\\n",
       "0  Action, Adventure, Drama, Sci-Fi  Anthony Russo, Joe Russo   \n",
       "\n",
       "                                              Writer  \\\n",
       "0  Christopher Markus (screenplay by), Stephen Mc...   \n",
       "\n",
       "                                              Actors Awards Metascore  \\\n",
       "0  Robert Downey Jr., Chris Evans, Mark Ruffalo, ...    N/A        78   \n",
       "\n",
       "  imdbRating imdbVotes     imdbID BoxOffice      Production Tomatoscore  \n",
       "0        8.5   589,503  tt4154796       N/A  Marvel Studios         94%  "
      ]
     },
     "execution_count": 59,
     "metadata": {},
     "output_type": "execute_result"
    }
   ],
   "source": [
    "requestIDMuthu([4154796])"
   ]
  },
  {
   "cell_type": "code",
   "execution_count": null,
   "metadata": {},
   "outputs": [],
   "source": []
  }
 ],
 "metadata": {
  "kernelspec": {
   "display_name": "Python 3",
   "language": "python",
   "name": "python3"
  },
  "language_info": {
   "codemirror_mode": {
    "name": "ipython",
    "version": 3
   },
   "file_extension": ".py",
   "mimetype": "text/x-python",
   "name": "python",
   "nbconvert_exporter": "python",
   "pygments_lexer": "ipython3",
   "version": "3.7.4"
  }
 },
 "nbformat": 4,
 "nbformat_minor": 2
}
